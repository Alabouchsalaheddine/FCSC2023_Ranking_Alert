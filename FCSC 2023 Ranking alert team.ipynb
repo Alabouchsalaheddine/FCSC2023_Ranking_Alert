{
 "cells": [
  {
   "cell_type": "markdown",
   "id": "41a27eb8",
   "metadata": {},
   "source": [
    "### Sendig FCSC 2023 number of solved challenges to team members"
   ]
  },
  {
   "cell_type": "code",
   "execution_count": 100,
   "id": "1e1224e8",
   "metadata": {},
   "outputs": [
    {
     "name": "stdout",
     "output_type": "stream",
     "text": [
      "FOUND !\n",
      "FOUND !\n"
     ]
    }
   ],
   "source": [
    "import requests\n",
    "import json\n",
    "from datetime import datetime\n",
    "\n",
    "url = \"https://france-cybersecurity-challenge.fr/api/v1/scoreboard/top/10/all\"\n",
    "\n",
    "headers = {\n",
    "    \"accept\": \"application/json\",\n",
    "    \"accept-language\": \"fr,en-US;q=0.9,en;q=0.8,ar;q=0.7,fr-FR;q=0.6,ar-MA;q=0.5\",\n",
    "    \"content-type\": \"application/json\",\n",
    "    \"sec-ch-ua\": \"\\\"Google Chrome\\\";v=\\\"111\\\", \\\"Not(A:Brand\\\";v=\\\"8\\\", \\\"Chromium\\\";v=\\\"111\\\"\",\n",
    "    \"sec-ch-ua-mobile\": \"?1\",\n",
    "    \"sec-ch-ua-platform\": \"\\\"Android\\\"\",\n",
    "    \"sec-fetch-dest\": \"empty\",\n",
    "    \"sec-fetch-mode\": \"cors\",\n",
    "    \"sec-fetch-site\": \"same-origin\",\n",
    "    \"Referer\": \"https://france-cybersecurity-challenge.fr/scoreboard/all\",\n",
    "    \"Referrer-Policy\": \"strict-origin-when-cross-origin\"  \n",
    "}\n",
    "teamMembersEmails = ['alabouchsalaheddine@gmail.com']\n",
    "teamMembersNames = (\"sea\", \"jsy\", \"nes-yousss\", \"Express\", \"Juju\")\n",
    "\n",
    "myTeamData = []\n",
    "\n",
    "response = requests.get(url, headers = headers)\n",
    "if response.status_code == 200 :\n",
    "    responseText = response.text\n",
    "    responseJson = json.loads(responseText)\n",
    "    #print(response.text)\n",
    "    data = responseJson[\"data\"]\n",
    "    #print(\"data : \", data)\n",
    "    for index in data :\n",
    "        #print(\"index : \",index)\n",
    "        userItem = data[index]\n",
    "        #print(\"userItem : \",userItem)\n",
    "        userName = userItem[\"name\"]\n",
    "        if userName in teamMembersNames :\n",
    "            print(\"FOUND !\")\n",
    "            myTeamData.append(userItem)\n",
    "    #print(myTeamData)\n",
    "    users = []\n",
    "    nbSolvedChallenges = []\n",
    "    \n",
    "    \n",
    "    for userItem in myTeamData :\n",
    "        name = userItem[\"name\"]\n",
    "        solves = userItem[\"solves\"]\n",
    "        nbSolvedChallenges.append(len(solves))\n",
    "        users.append(name)\n",
    "    "
   ]
  },
  {
   "cell_type": "code",
   "execution_count": 113,
   "id": "8dd88290",
   "metadata": {},
   "outputs": [
    {
     "data": {
      "image/png": "[encoded data removed]",
      "text/plain": [
       "<Figure size 1152x576 with 1 Axes>"
      ]
     },
     "metadata": {},
     "output_type": "display_data"
    }
   ],
   "source": [
    "sns.set_theme(style=\"whitegrid\")\n",
    "sns.set(font_scale=2)\n",
    "sns.barplot(x=users, y=nbSolvedChallenges)\n",
    "sns.set(rc={\"figure.figsize\":(16, 8)})\n",
    "plt.savefig('images/nbSolvedChallengesByUser.png')"
   ]
  },
  {
   "cell_type": "code",
   "execution_count": 109,
   "id": "9ce5be87",
   "metadata": {},
   "outputs": [
    {
     "data": {
      "text/plain": [
       "(221, b'2.0.0 Service closing transmission channel')"
      ]
     },
     "execution_count": 109,
     "metadata": {},
     "output_type": "execute_result"
    }
   ],
   "source": [
    "\n",
    "from email.mime.multipart import MIMEMultipart\n",
    "from email.mime.text import MIMEText\n",
    "from email.mime.image import MIMEImage\n",
    "\n",
    "# Define these once; use them twice!\n",
    "strFrom = 'XXXXXXXX'\n",
    "strFromPassword = \"XXXXXXX\"\n",
    "strTo = 'alabouchsalaheddine@gmail.com'\n",
    "\n",
    "teamName = \"FCSC2023 XXXXXX\"\n",
    "\n",
    "# Create the root message and fill in the from, to, and subject headers\n",
    "msgRoot = MIMEMultipart('related')\n",
    "msgRoot['Subject'] = 'Ranking FCSC2023'\n",
    "msgRoot.preamble = 'This is a multi-part message in MIME format.'\n",
    "\n",
    "# Encapsulate the plain and HTML versions of the message body in an\n",
    "# 'alternative' part, so message agents can decide which they want to display.\n",
    "msgAlternative = MIMEMultipart('alternative')\n",
    "msgRoot.attach(msgAlternative)\n",
    "\n",
    "msgText = MIMEText('This is the alternative plain text message.')\n",
    "msgAlternative.attach(msgText)\n",
    "\n",
    "# We reference the image in the IMG SRC attribute by the ID we give it below\n",
    "msgText = MIMEText('<h3>Hello team ' + teamName + '</h3> <h3>Here is the number of challenges solved by each member</h3><br><img src=\"cid:image1\"><br><h3>Good luck!</h3>', 'html')\n",
    "msgAlternative.attach(msgText)\n",
    "\n",
    "# This example assumes the image is in the current directory\n",
    "fp = open('images/nbSolvedChallengesByUser.png', 'rb')\n",
    "msgImage = MIMEImage(fp.read())\n",
    "fp.close()\n",
    "\n",
    "# Define the image's ID as referenced above\n",
    "msgImage.add_header('Content-ID', '<image1>')\n",
    "msgRoot.attach(msgImage)\n",
    "\n",
    "\n",
    "\n",
    "server = smtplib.SMTP('smtp.office365.com', 587)  ### put your relevant SMTP here\n",
    "server.ehlo()\n",
    "server.starttls()\n",
    "server.ehlo()\n",
    "server.login(strFrom, strFromPassword)  ### if applicable\n",
    "server.sendmail(strFrom, strTo, msgRoot.as_string())\n",
    "server.quit()\n",
    "\n",
    "\n"
   ]
  }
 ],
 "metadata": {
  "kernelspec": {
   "display_name": "Python 3",
   "language": "python",
   "name": "python3"
  },
  "language_info": {
   "codemirror_mode": {
    "name": "ipython",
    "version": 3
   },
   "file_extension": ".py",
   "mimetype": "text/x-python",
   "name": "python",
   "nbconvert_exporter": "python",
   "pygments_lexer": "ipython3",
   "version": "3.7.3"
  }
 },
 "nbformat": 4,
 "nbformat_minor": 5
}
